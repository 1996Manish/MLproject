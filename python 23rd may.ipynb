{
 "cells": [
  {
   "cell_type": "code",
   "execution_count": 1,
   "metadata": {},
   "outputs": [
    {
     "name": "stdout",
     "output_type": "stream",
     "text": [
      "my last python program\n"
     ]
    }
   ],
   "source": [
    "print(\"my last python program\")"
   ]
  },
  {
   "cell_type": "code",
   "execution_count": 5,
   "metadata": {},
   "outputs": [
    {
     "name": "stdout",
     "output_type": "stream",
     "text": [
      "my last python program\n"
     ]
    }
   ],
   "source": [
    "rakesh=\"my last python program\"\n",
    "print(rakesh)"
   ]
  },
  {
   "cell_type": "code",
   "execution_count": 12,
   "metadata": {},
   "outputs": [
    {
     "name": "stdout",
     "output_type": "stream",
     "text": [
      "the sum of 5+2 is: 7\n",
      "the difference of 5+2 is: 3\n",
      " 5*2 : 10\n",
      "5**2: 25\n",
      "5/2: 2.5\n",
      "5//2: 2\n"
     ]
    }
   ],
   "source": [
    "print(\"the sum of 5+2 is:\",(5+2))\n",
    "print(\"the difference of 5+2 is:\",(5-2))\n",
    "print(\" 5*2 :\",(5*2))\n",
    "print(\"5**2:\",(5**2))\n",
    "print(\"5/2:\",(5/2))\n",
    "print(\"5//2:\",(5//2))\n",
    "print(\"\")"
   ]
  },
  {
   "cell_type": "code",
   "execution_count": 15,
   "metadata": {},
   "outputs": [
    {
     "name": "stdout",
     "output_type": "stream",
     "text": [
      "rakesh mani\n",
      "the god of cricket is rakesh mani\n"
     ]
    }
   ],
   "source": [
    "name1='rakesh'\n",
    "name2='mani'\n",
    "print(name1+' '+name2)\n",
    "print(\"%s %s %s\" %(\"the god of cricket is\",name1,name2 ))"
   ]
  },
  {
   "cell_type": "code",
   "execution_count": 19,
   "metadata": {},
   "outputs": [
    {
     "data": {
      "text/plain": [
       "'this my program.Race3 is a shit'"
      ]
     },
     "execution_count": 19,
     "metadata": {},
     "output_type": "execute_result"
    }
   ],
   "source": [
    "#this is personal info\n",
    "'this my program.Race3 is a shit'"
   ]
  },
  {
   "cell_type": "code",
   "execution_count": 40,
   "metadata": {},
   "outputs": [
    {
     "name": "stdout",
     "output_type": "stream",
     "text": [
      "[1, 1, 2, 3]\n",
      "['rms', 'rma', 'pankah']\n",
      "pankah\n",
      "['rms', 'rma', 'ravi']\n",
      "['rms', 'rma', 'ravi', 0]\n",
      "['rms', 'rma', 'rahim', 'ravi', 0]\n",
      "['rms', 'rma', 'rahim', 'ravi']\n",
      "['rms', 'rma', 'rahim']\n"
     ]
    }
   ],
   "source": [
    "#list:\n",
    "a=[1,1,2,3]\n",
    "print(a)\n",
    "str=['rms',\"rma\",'pankah']\n",
    "print(str)\n",
    "print(str[2])\n",
    "str[2] ='ravi'\n",
    "print(str)\n",
    "str.append(0)\n",
    "print(str)\n",
    "str.insert(2,\"rahim\")\n",
    "print(str)\n",
    "str.remove(0)\n",
    "print(str)\n",
    "del str[3]\n",
    "print(str)"
   ]
  },
  {
   "cell_type": "markdown",
   "metadata": {},
   "source": [
    "print(str[0:3])"
   ]
  },
  {
   "cell_type": "code",
   "execution_count": 41,
   "metadata": {},
   "outputs": [
    {
     "name": "stdout",
     "output_type": "stream",
     "text": [
      "([1, 2, 3, 4, 56], [1, 2, 3, 4, 55, 6])\n"
     ]
    }
   ],
   "source": [
    "#list within  list\n",
    "a=[1,2,3,4,56,]\n",
    "b=[1,2,3,4,55,6]\n",
    "c=(a,b)\n",
    "print(c)"
   ]
  },
  {
   "cell_type": "code",
   "execution_count": 42,
   "metadata": {},
   "outputs": [
    {
     "name": "stdout",
     "output_type": "stream",
     "text": [
      "[1, 2, 3, 4, 56, 1, 2, 3, 4, 55, 6]\n"
     ]
    }
   ],
   "source": [
    "d=a+b\n",
    "print(d)"
   ]
  },
  {
   "cell_type": "code",
   "execution_count": 47,
   "metadata": {},
   "outputs": [
    {
     "name": "stdout",
     "output_type": "stream",
     "text": [
      "['rahim', 'ram', 'tamin', 'umashakar']\n",
      "['umashakar', 'tamin', 'ram', 'rahim']\n"
     ]
    }
   ],
   "source": [
    "str=['ram', 'rahim', 'tamin','umashakar']\n",
    "str.sort()\n",
    "print(str)\n",
    "str.reverse()\n",
    "print(str)\n"
   ]
  },
  {
   "cell_type": "code",
   "execution_count": 48,
   "metadata": {},
   "outputs": [
    {
     "name": "stdout",
     "output_type": "stream",
     "text": [
      "umashakar\n",
      "rahim\n"
     ]
    }
   ],
   "source": [
    "a=['ram', 'rahim', 'tamin','umashakar']\n",
    "b=['safar','low are', 'gouddu']\n",
    "print(max(a))\n",
    "print(min(a))\n",
    "c=a+b\n",
    "print(c)\n",
    "d=[a,b]\n"
   ]
  },
  {
   "cell_type": "code",
   "execution_count": null,
   "metadata": {},
   "outputs": [],
   "source": [
    "a=(1,2,3,4)\n",
    "b=(4,6,67,7,78)\n",
    "c=a+b\n",
    "k=[2,1,23,3,442,]\n",
    "l=tuple(k)\n",
    "print(l)\n",
    "print(k)\n",
    "print(c)\n",
    "print(max(a))\n",
    "print(min(a))\n",
    "print(len(a))\n"
   ]
  },
  {
   "cell_type": "code",
   "execution_count": 56,
   "metadata": {},
   "outputs": [
    {
     "name": "stdout",
     "output_type": "stream",
     "text": [
      "{1: 'ram', 2: 'tummy', 5: 'golu'}\n"
     ]
    }
   ],
   "source": [
    "#dictinary\n",
    "myDic={1:'ram',2:'tummy',5:'golu'}\n",
    "print(myDic)\n",
    "myDic=\n"
   ]
  },
  {
   "cell_type": "markdown",
   "metadata": {},
   "source": [
    "if else st"
   ]
  },
  {
   "cell_type": "markdown",
   "metadata": {},
   "source": [
    "\n",
    "    print(\"i am adult\")\n",
    "    elif a==18:\n",
    "        print(\"i am 18\")\n",
    "        else:\n",
    "            print(\" ia am roboy\")"
   ]
  },
  {
   "cell_type": "code",
   "execution_count": null,
   "metadata": {},
   "outputs": [],
   "source": []
  }
 ],
 "metadata": {
  "kernelspec": {
   "display_name": "Python 3",
   "language": "python",
   "name": "python3"
  },
  "language_info": {
   "codemirror_mode": {
    "name": "ipython",
    "version": 3
   },
   "file_extension": ".py",
   "mimetype": "text/x-python",
   "name": "python",
   "nbconvert_exporter": "python",
   "pygments_lexer": "ipython3",
   "version": "3.6.4"
  }
 },
 "nbformat": 4,
 "nbformat_minor": 2
}

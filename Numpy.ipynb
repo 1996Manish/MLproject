{
 "cells": [
  {
   "cell_type": "code",
   "execution_count": 7,
   "metadata": {},
   "outputs": [
    {
     "name": "stdout",
     "output_type": "stream",
     "text": [
      "[[1 2 3]\n",
      " [3 4 5]]\n"
     ]
    }
   ],
   "source": [
    "#2d array\n",
    "import numpy as np\n",
    "a = np.array([(1,2,3),(3,4,5)])\n",
    "print(a)"
   ]
  },
  {
   "cell_type": "code",
   "execution_count": 8,
   "metadata": {},
   "outputs": [
    {
     "name": "stdout",
     "output_type": "stream",
     "text": [
      "2\n"
     ]
    }
   ],
   "source": [
    "#dimension of the array\n",
    "print(a.ndim)\n",
    "\n"
   ]
  },
  {
   "cell_type": "code",
   "execution_count": 9,
   "metadata": {},
   "outputs": [
    {
     "name": "stdout",
     "output_type": "stream",
     "text": [
      "6\n"
     ]
    }
   ],
   "source": [
    "#size of the array\n",
    "print(a.size)"
   ]
  },
  {
   "cell_type": "code",
   "execution_count": 9,
   "metadata": {},
   "outputs": [
    {
     "name": "stdout",
     "output_type": "stream",
     "text": [
      "int32\n"
     ]
    }
   ],
   "source": [
    "print(a.dtype)"
   ]
  },
  {
   "cell_type": "code",
   "execution_count": 10,
   "metadata": {},
   "outputs": [
    {
     "name": "stdout",
     "output_type": "stream",
     "text": [
      "(2, 3)\n"
     ]
    }
   ],
   "source": [
    "#shape\n",
    "print(a.shape)"
   ]
  },
  {
   "cell_type": "code",
   "execution_count": 11,
   "metadata": {},
   "outputs": [
    {
     "name": "stdout",
     "output_type": "stream",
     "text": [
      "[[1 2 3]\n",
      " [3 4 5]]\n",
      "(2, 3)\n",
      "[[1 2]\n",
      " [3 3]\n",
      " [4 5]]\n"
     ]
    }
   ],
   "source": [
    "a = np.array([(1,2,3),(3,4,5)])\n",
    "print (a)\n",
    "print(a.shape)\n",
    "print(a.reshape(3,2))"
   ]
  },
  {
   "cell_type": "code",
   "execution_count": 18,
   "metadata": {},
   "outputs": [
    {
     "name": "stdout",
     "output_type": "stream",
     "text": [
      "5\n"
     ]
    }
   ],
   "source": [
    "#selecting an element\n",
    "print(a[1,2])"
   ]
  },
  {
   "cell_type": "code",
   "execution_count": 21,
   "metadata": {},
   "outputs": [
    {
     "name": "stdout",
     "output_type": "stream",
     "text": [
      "[[1 2 3 4]\n",
      " [4 3 4 5]\n",
      " [2 4 4 6]]\n",
      "[3 4 4]\n"
     ]
    }
   ],
   "source": [
    "a = np.array([(1,2,3,4),(4,3,4,5),(2,4,4,6)])\n",
    "print(a)\n",
    "print(a[0:3,2])\n"
   ]
  },
  {
   "cell_type": "code",
   "execution_count": 22,
   "metadata": {},
   "outputs": [
    {
     "name": "stdout",
     "output_type": "stream",
     "text": [
      "[[1 2 3 4]\n",
      " [4 3 4 5]\n",
      " [2 4 4 6]]\n",
      "1\n",
      "6\n",
      "42\n"
     ]
    }
   ],
   "source": [
    "a = np.array([(1,2,3,4),(4,3,4,5),(2,4,4,6)])\n",
    "print(a)\n",
    "print(a.min())\n",
    "print(a.max())\n",
    "print(a.sum())"
   ]
  },
  {
   "cell_type": "code",
   "execution_count": 23,
   "metadata": {},
   "outputs": [
    {
     "name": "stdout",
     "output_type": "stream",
     "text": [
      "[[1 2 3 4]\n",
      " [4 3 4 5]\n",
      " [2 4 4 6]]\n",
      "[ 7  9 11 15]\n",
      "[10 16 16]\n"
     ]
    }
   ],
   "source": [
    "a = np.array([(1,2,3,4),(4,3,4,5),(2,4,4,6)])\n",
    "print(a)\n",
    "print(a.sum(axis=0))#add the element column-wise\n",
    "print(a.sum(axis=1))# add the element row-wise"
   ]
  },
  {
   "cell_type": "code",
   "execution_count": 25,
   "metadata": {},
   "outputs": [
    {
     "name": "stdout",
     "output_type": "stream",
     "text": [
      "[[1 2 3 4]\n",
      " [4 3 4 5]\n",
      " [2 4 4 6]]\n",
      "[[1.         1.41421356 1.73205081 2.        ]\n",
      " [2.         1.73205081 2.         2.23606798]\n",
      " [1.41421356 2.         2.         2.44948974]]\n",
      "1.3228756555322954\n"
     ]
    }
   ],
   "source": [
    "a = np.array([(1,2,3,4),(4,3,4,5),(2,4,4,6)])\n",
    "print(a)\n",
    "print(np.sqrt(a))\n",
    "print(np.std(a))"
   ]
  },
  {
   "cell_type": "code",
   "execution_count": 27,
   "metadata": {},
   "outputs": [
    {
     "name": "stdout",
     "output_type": "stream",
     "text": [
      "[[ 2  4  6  8]\n",
      " [ 8  6  8 10]\n",
      " [ 4  8  8 12]]\n",
      "[[0 0 0 0]\n",
      " [0 0 0 0]\n",
      " [0 0 0 0]]\n",
      "[[1. 1. 1. 1.]\n",
      " [1. 1. 1. 1.]\n",
      " [1. 1. 1. 1.]]\n",
      "[[ 1  4  9 16]\n",
      " [16  9 16 25]\n",
      " [ 4 16 16 36]]\n"
     ]
    }
   ],
   "source": [
    "a = np.array([(1,2,3,4),(4,3,4,5),(2,4,4,6)])\n",
    "b= np.array([(1,2,3,4),(4,3,4,5),(2,4,4,6)])\n",
    "print(a+b)\n",
    "print(a-b)\n",
    "print(a/b)\n",
    "print(a*b)"
   ]
  },
  {
   "cell_type": "code",
   "execution_count": 31,
   "metadata": {},
   "outputs": [
    {
     "name": "stdout",
     "output_type": "stream",
     "text": [
      "[[1 2 3 4]\n",
      " [4 3 4 5]\n",
      " [2 4 4 6]]\n",
      "[[1 2 3 4]\n",
      " [4 3 4 5]\n",
      " [2 4 4 6]]\n",
      "[[1 2 3 4]\n",
      " [4 3 4 5]\n",
      " [2 4 4 6]\n",
      " [1 2 3 4]\n",
      " [4 3 4 5]\n",
      " [2 4 4 6]]\n",
      "[[1 2 3 4 1 2 3 4]\n",
      " [4 3 4 5 4 3 4 5]\n",
      " [2 4 4 6 2 4 4 6]]\n",
      "[1 2 3 4 4 3 4 5 2 4 4 6]\n",
      "[1 2 3 4 4 3 4 5 2 4 4 6]\n"
     ]
    }
   ],
   "source": [
    "a = np.array([(1,2,3,4),(4,3,4,5),(2,4,4,6)])\n",
    "b= np.array([(1,2,3,4),(4,3,4,5),(2,4,4,6)])\n",
    "print(a)\n",
    "print(b)\n",
    "#addition of element vertically\n",
    "\n",
    "print(np.vstack((a,b)))\n",
    "#addition of element horizontally\n",
    "print(np.hstack((a,b)))\n",
    "#printing the element of array in single row\n",
    "print(a.ravel())\n",
    "print(b.ravel())"
   ]
  },
  {
   "cell_type": "code",
   "execution_count": 32,
   "metadata": {},
   "outputs": [
    {
     "name": "stdout",
     "output_type": "stream",
     "text": [
      "[ 2  4  6  8 10 12 14 16 18]\n"
     ]
    }
   ],
   "source": [
    "x=np.arange(2,20,2)\n",
    "print(x)"
   ]
  },
  {
   "cell_type": "code",
   "execution_count": 34,
   "metadata": {},
   "outputs": [
    {
     "data": {
      "image/png": "[encoded data removed]",
      "text/plain": [
       "<matplotlib.figure.Figure at 0x707112eac8>"
      ]
     },
     "metadata": {},
     "output_type": "display_data"
    }
   ],
   "source": [
    "import numpy as np\n",
    "import matplotlib.pyplot as plt\n",
    "x=np.arange(0,2,0.1)\n",
    "y=np.sin(x)\n",
    "plt.plot(x,y)\n",
    "plt.show()"
   ]
  },
  {
   "cell_type": "code",
   "execution_count": 36,
   "metadata": {},
   "outputs": [
    {
     "name": "stdout",
     "output_type": "stream",
     "text": [
      "[  7.3890561   54.59815003 148.4131591 ]\n",
      "[1.         2.         2.32192809]\n"
     ]
    }
   ],
   "source": [
    "#exponential\n",
    "import numpy as np\n",
    "ar=np.array([2,4,5])\n",
    "print(np.exp(ar))\n",
    "print(np.log2(ar))"
   ]
  },
  {
   "cell_type": "code",
   "execution_count": null,
   "metadata": {},
   "outputs": [],
   "source": []
  }
 ],
 "metadata": {
  "kernelspec": {
   "display_name": "Python 3",
   "language": "python",
   "name": "python3"
  },
  "language_info": {
   "codemirror_mode": {
    "name": "ipython",
    "version": 3
   },
   "file_extension": ".py",
   "mimetype": "text/x-python",
   "name": "python",
   "nbconvert_exporter": "python",
   "pygments_lexer": "ipython3",
   "version": "3.6.4"
  }
 },
 "nbformat": 4,
 "nbformat_minor": 2
}

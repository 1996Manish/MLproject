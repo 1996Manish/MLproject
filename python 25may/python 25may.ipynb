{
 "cells": [
  {
   "cell_type": "code",
   "execution_count": 8,
   "metadata": {},
   "outputs": [
    {
     "name": "stdout",
     "output_type": "stream",
     "text": [
      "inside if\n",
      "inside if of if\n"
     ]
    }
   ],
   "source": [
    "#nested ifprint\n",
    "a=50\n",
    "if(a>40):\n",
    "    print(\"inside if\")\n",
    "    if(a==50):\n",
    "        print(\"inside if of if\")\n",
    "    else:\n",
    "            print('inside else of if')\n",
    "else:\n",
    "    print('inside else')\n",
    "            "
   ]
  },
  {
   "cell_type": "code",
   "execution_count": 4,
   "metadata": {},
   "outputs": [
    {
     "name": "stdout",
     "output_type": "stream",
     "text": [
      "0\n",
      "1\n",
      "2\n",
      "3\n",
      "4\n",
      "5\n",
      "6\n",
      "7\n",
      "8\n",
      "9\n",
      "10\n",
      "11\n",
      "12\n",
      "13\n",
      "14\n",
      "15\n",
      "16\n",
      "17\n",
      "18\n",
      "19\n"
     ]
    }
   ],
   "source": [
    "for x in range(0,20):\n",
    "    print(x)"
   ]
  },
  {
   "cell_type": "code",
   "execution_count": 28,
   "metadata": {},
   "outputs": [
    {
     "name": "stdout",
     "output_type": "stream",
     "text": [
      "0 1 2 3 4 5 6 7 8 9 10 11 12 13 14 15 16 17 18 19 "
     ]
    }
   ],
   "source": [
    "for x in range(0,20):\n",
    "    print(x,end = ' ')"
   ]
  },
  {
   "cell_type": "code",
   "execution_count": null,
   "metadata": {},
   "outputs": [],
   "source": []
  },
  {
   "cell_type": "code",
   "execution_count": 15,
   "metadata": {},
   "outputs": [
    {
     "name": "stdout",
     "output_type": "stream",
     "text": [
      "0\n",
      "1\n",
      "2\n",
      "3\n",
      "4\n",
      "5\n",
      "6\n",
      "7\n",
      "8\n",
      "9\n"
     ]
    }
   ],
   "source": [
    "a=0\n",
    "while(a<10):\n",
    "    print(a)\n",
    "    a+=1\n",
    "    "
   ]
  },
  {
   "cell_type": "code",
   "execution_count": null,
   "metadata": {},
   "outputs": [],
   "source": []
  },
  {
   "cell_type": "code",
   "execution_count": 16,
   "metadata": {},
   "outputs": [
    {
     "name": "stdout",
     "output_type": "stream",
     "text": [
      "1 2 3 4 45 55 5 6 7 "
     ]
    }
   ],
   "source": [
    "p=[[1,2,3],[4,45,55],[5,6,7]]\n",
    "for x in range(0,3):\n",
    "    for y in range(0,3):\n",
    "        print(p[x][y],end = ' ')"
   ]
  },
  {
   "cell_type": "code",
   "execution_count": 17,
   "metadata": {},
   "outputs": [
    {
     "name": "stdout",
     "output_type": "stream",
     "text": [
      "enter your namebanita\n",
      "hello:banita\n"
     ]
    }
   ],
   "source": [
    "name=input(\"enter your name\")\n",
    "print(\"hello:\"+name)"
   ]
  },
  {
   "cell_type": "code",
   "execution_count": 19,
   "metadata": {},
   "outputs": [
    {
     "name": "stdout",
     "output_type": "stream",
     "text": [
      "rsp kush\n",
      "rsp kush \n"
     ]
    }
   ],
   "source": [
    "#string\n",
    "a='rsp'\n",
    "b='kush'\n",
    "c='manish'\n",
    "print(a+' '+b)\n",
    "print('%s %s '%(a,b))"
   ]
  },
  {
   "cell_type": "code",
   "execution_count": 33,
   "metadata": {},
   "outputs": [
    {
     "name": "stdout",
     "output_type": "stream",
     "text": [
      "20\n",
      "y\n",
      "a erigpto\n",
      "i am learning python\n",
      "nhy nnalm \n"
     ]
    }
   ],
   "source": [
    "a='i am learning python'\n",
    "print(len(a))\n",
    "print(max(a))\n",
    "#print(min(a))\n",
    "print(a[2:len(a):2] )\n",
    "print(a[0:len(a):1])\n",
    "print(a[::-2])"
   ]
  },
  {
   "cell_type": "code",
   "execution_count": 37,
   "metadata": {},
   "outputs": [
    {
     "name": "stdout",
     "output_type": "stream",
     "text": [
      "I am learning python\n",
      "I AM LEARNING PYTHON\n",
      "i am learning python\n",
      "2\n",
      "1\n",
      "9\n"
     ]
    }
   ],
   "source": [
    "# turn into capital letter of first letter\n",
    "print(a.capitalize())\n",
    "# turn into capital whole\n",
    "print(a.upper())\n",
    "print(a.lower())\n",
    "# no. of 'a' letter\n",
    "print(a.count('a'))\n",
    "print(a.count('a',3,len(a)))\n",
    "#print(a.index('n')\n",
    "print(a.find('n'))\n",
    "      "
   ]
  },
  {
   "cell_type": "code",
   "execution_count": 51,
   "metadata": {},
   "outputs": [
    {
     "name": "stdout",
     "output_type": "stream",
     "text": [
      "hello ganesh have a nice day\n",
      "['ram', 'is', 'good boy']\n"
     ]
    }
   ],
   "source": [
    "str1='  hello ganesh have a nice day   '\n",
    "#print(str1.replace('l','zz',2))\n",
    "# remove unnecessary space from both end not from middle\n",
    "print(str1.strip())\n",
    "\n",
    "k='ram is good boy'\n",
    " \n",
    "print(k.split(' ',2))"
   ]
  },
  {
   "cell_type": "markdown",
   "metadata": {},
   "source": [
    "# regular expression\n"
   ]
  },
  {
   "cell_type": "code",
   "execution_count": null,
   "metadata": {},
   "outputs": [],
   "source": []
  }
 ],
 "metadata": {
  "kernelspec": {
   "display_name": "Python 3",
   "language": "python",
   "name": "python3"
  },
  "language_info": {
   "codemirror_mode": {
    "name": "ipython",
    "version": 3
   },
   "file_extension": ".py",
   "mimetype": "text/x-python",
   "name": "python",
   "nbconvert_exporter": "python",
   "pygments_lexer": "ipython3",
   "version": "3.6.4"
  }
 },
 "nbformat": 4,
 "nbformat_minor": 2
}
